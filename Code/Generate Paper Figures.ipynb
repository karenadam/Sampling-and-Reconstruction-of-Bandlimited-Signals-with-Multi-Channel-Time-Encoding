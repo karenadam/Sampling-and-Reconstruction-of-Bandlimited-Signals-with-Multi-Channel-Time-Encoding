{
 "cells": [
  {
   "cell_type": "code",
   "execution_count": null,
   "metadata": {},
   "outputs": [],
   "source": [
    "import Figure1\n",
    "import Figure3\n",
    "import Figure4\n",
    "import Figure7\n",
    "import Figure8\n",
    "import Figure9\n",
    "import Figure10\n",
    "import os\n",
    "%matplotlib inline"
   ]
  },
  {
   "cell_type": "code",
   "execution_count": null,
   "metadata": {},
   "outputs": [],
   "source": [
    "Figure1.Generate()"
   ]
  },
  {
   "cell_type": "code",
   "execution_count": null,
   "metadata": {},
   "outputs": [],
   "source": [
    "Figure3.Generate()"
   ]
  },
  {
   "cell_type": "code",
   "execution_count": null,
   "metadata": {},
   "outputs": [],
   "source": [
    "Figure4.Generate()"
   ]
  },
  {
   "cell_type": "code",
   "execution_count": null,
   "metadata": {},
   "outputs": [],
   "source": [
    "Figure7.Generate()"
   ]
  },
  {
   "cell_type": "code",
   "execution_count": null,
   "metadata": {},
   "outputs": [],
   "source": [
    "figure8_data_filename = \"../Data/Figure8_VarNumChannels.pkl\"\n",
    "\n",
    "if(not os.path.isfile(figure8_data_filename)):\n",
    "    Figure8.GetData()\n",
    "Figure8.Generate()"
   ]
  },
  {
   "cell_type": "code",
   "execution_count": null,
   "metadata": {},
   "outputs": [],
   "source": [
    "figure9_data_filename = \"../Data/Figure9_single_versus_double.pkl\"\n",
    "\n",
    "if(not os.path.isfile(figure8_data_filename)):\n",
    "    Figure9.GetData()\n",
    "Figure9.Generate()"
   ]
  },
  {
   "cell_type": "code",
   "execution_count": null,
   "metadata": {},
   "outputs": [],
   "source": [
    "figure10_data_filename = \"../Data/Figure10_VarShifts.pkl\"\n",
    "\n",
    "if(not os.path.isfile(figure10_data_filename)):\n",
    "    Figure10.GetData()\n",
    "Figure10.Generate()"
   ]
  },
  {
   "cell_type": "code",
   "execution_count": null,
   "metadata": {},
   "outputs": [],
   "source": []
  }
 ],
 "metadata": {
  "kernelspec": {
   "display_name": ".m-ch-te-paper",
   "language": "python",
   "name": ".m-ch-te-paper"
  },
  "language_info": {
   "codemirror_mode": {
    "name": "ipython",
    "version": 3
   },
   "file_extension": ".py",
   "mimetype": "text/x-python",
   "name": "python",
   "nbconvert_exporter": "python",
   "pygments_lexer": "ipython3",
   "version": "3.7.3"
  }
 },
 "nbformat": 4,
 "nbformat_minor": 2
}
